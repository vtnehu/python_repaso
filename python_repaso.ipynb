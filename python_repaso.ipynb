{
 "cells": [
  {
   "cell_type": "markdown",
   "metadata": {},
   "source": [
    "1.1. Suma de enteros:\n",
    "Solicita al usuario que ingrese dos números enteros y luego muestra la suma de esos números."
   ]
  },
  {
   "cell_type": "code",
   "execution_count": 1,
   "metadata": {},
   "outputs": [
    {
     "name": "stdout",
     "output_type": "stream",
     "text": [
      "6\n"
     ]
    }
   ],
   "source": [
    "numero1 = int(input(\"Ingresa el primer número entero: \"))\n",
    "numero2 = int(input(\"Ingresa el segundo número entero: \"))\n",
    "suma = numero1 + numero2\n",
    "print (suma)u"
   ]
  },
  {
   "cell_type": "markdown",
   "metadata": {},
   "source": [
    "1.2. Calculadora de BMI:Pide al usuario su peso en kilogramos y su altura en metros. Calcula el\n",
    "índice de masa corporal\n",
    "(BMI) usando la fórmula: BMI = peso / (altura * altura). Luego, muestra el resultado."
   ]
  },
  {
   "cell_type": "code",
   "execution_count": 3,
   "metadata": {},
   "outputs": [
    {
     "name": "stdout",
     "output_type": "stream",
     "text": [
      "19.531249999999996\n"
     ]
    }
   ],
   "source": [
    "peso = float(input(\"Ingresa tu peso en kg: \"))\n",
    "altura = float(input(\"Ingresa tu altura en m: \"))\n",
    "bmi = peso / (altura * altura)\n",
    "print(bmi)"
   ]
  },
  {
   "cell_type": "markdown",
   "metadata": {},
   "source": [
    "1.3. Manipulación de cadenas:Toma una cadena de texto como entrada y muestra la longitud\n",
    "de la cadena, el primer y último carácter, y la cadena en mayúsculas."
   ]
  },
  {
   "cell_type": "code",
   "execution_count": 4,
   "metadata": {},
   "outputs": [
    {
     "name": "stdout",
     "output_type": "stream",
     "text": [
      "4\n",
      "h\n",
      "a\n",
      "HOLA\n"
     ]
    }
   ],
   "source": [
    "cadena = input(\"Ingresa una cadena de texto: \")\n",
    "lon = len(cadena)\n",
    "prim_caracter = cadena[0]\n",
    "ult_caracter = cadena[-1]\n",
    "mayusculas = cadena.upper()\n",
    "print(lon)\n",
    "print(prim_caracter)\n",
    "print(ult_caracter)\n",
    "print(mayusculas)"
   ]
  },
  {
   "cell_type": "markdown",
   "metadata": {},
   "source": [
    "1.4. Conversión de temperaturas:Solicita al usuario una temperatura en grados Celsius y\n",
    "conviértela a grados Fahrenheit utilizando la fórmula: Fahrenheit = (Celsius * 9/5) + 32."
   ]
  },
  {
   "cell_type": "code",
   "execution_count": 5,
   "metadata": {},
   "outputs": [
    {
     "name": "stdout",
     "output_type": "stream",
     "text": [
      "La temperatura en grados Fahrenheit es: 95.0\n"
     ]
    }
   ],
   "source": [
    "celsius = float(input(\"Ingresa la temperatura en grados Celsius: \"))\n",
    "f = (celsius * 9/5) + 32\n",
    "print(\"La temperatura en grados Fahrenheit es:\", f)"
   ]
  },
  {
   "cell_type": "markdown",
   "metadata": {},
   "source": [
    "1.5. Lista de números pares:Genera una lista de los primeros 10 números pares (utilizando un\n",
    "bucle for) y muestra la lista resultante."
   ]
  },
  {
   "cell_type": "code",
   "execution_count": 7,
   "metadata": {},
   "outputs": [
    {
     "name": "stdout",
     "output_type": "stream",
     "text": [
      "[2, 4, 6, 8, 10, 12, 14, 16, 18, 20]\n"
     ]
    }
   ],
   "source": [
    "numeros_pares = []\n",
    "for i in range(2, 21, 2): \n",
    "    numeros_pares.append(i)\n",
    "print(numeros_pares)"
   ]
  },
  {
   "cell_type": "markdown",
   "metadata": {},
   "source": [
    "1.6. Tupla de colores:Crea una tupla con tres colores de tu elección y muestra el segundo color\n",
    "de la tupla."
   ]
  },
  {
   "cell_type": "code",
   "execution_count": 8,
   "metadata": {},
   "outputs": [
    {
     "name": "stdout",
     "output_type": "stream",
     "text": [
      "verde\n"
     ]
    }
   ],
   "source": [
    "colores = [\"rojo\", \"verde\", \"morado\"]\n",
    "seg_color = colores[1]\n",
    "print(seg_color)"
   ]
  },
  {
   "cell_type": "markdown",
   "metadata": {},
   "source": [
    "1.7. Operaciones con conjuntos:Crea dos conjuntos con elementos repetidos y realiza la\n",
    "unión, la intersección y la diferencia entre ellos."
   ]
  },
  {
   "cell_type": "code",
   "execution_count": 9,
   "metadata": {},
   "outputs": [
    {
     "name": "stdout",
     "output_type": "stream",
     "text": [
      "Unión de conjuntos: {1, 2, 3, 4, 5, 6}\n",
      "Intersección de conjuntos: {3, 4}\n",
      "Diferencia entre conjuntos: {1, 2}\n"
     ]
    }
   ],
   "source": [
    "conj1 = {1, 2, 2, 3, 4}\n",
    "conj2 = {3, 4, 5, 6}\n",
    "union = conj1.union(conj2)\n",
    "inters = conj1.intersection(conj2)\n",
    "difer = conj1.difference(conj2)\n",
    "print(\"Unión de conjuntos:\", union)\n",
    "print(\"Intersección de conjuntos:\", inters)\n",
    "print(\"Diferencia entre conjuntos:\", difer)"
   ]
  },
  {
   "cell_type": "markdown",
   "metadata": {},
   "source": [
    "1.8. Diccionario de contactos:Crea un diccionario que almacene los nombres y números de\n",
    "teléfono de tus contactos. Luego, permite al usuario buscar un contacto por nombre y mostrar su\n",
    "número."
   ]
  },
  {
   "cell_type": "code",
   "execution_count": 12,
   "metadata": {},
   "outputs": [
    {
     "name": "stdout",
     "output_type": "stream",
     "text": [
      "Contacto no encontrado.\n"
     ]
    }
   ],
   "source": [
    "contactos = {\n",
    "\"Juan\": \"1234567890\",\"Jose\": \"9876543210\",\"Alberto\": \"5555555555\"}\n",
    "nombre_buscar = input(\"Ingresa el nombre del contact: \")\n",
    "if nombre_buscar in contactos:\n",
    "    numero = contactos[nombre_buscar]\n",
    "    print(\"El número de\", nombre_buscar, \"es:\", numero) \n",
    "else:\n",
    "    print(\"Contacto no encontrado.\")"
   ]
  },
  {
   "cell_type": "markdown",
   "metadata": {},
   "source": [
    "1.9. Comprobación de valores booleanos: Pide al usuario que ingrese dos valores booleanos\n",
    "(True o False) e imprime el resultado de las operaciones lógicas AND, OR y NOT entre esos\n",
    "valores."
   ]
  },
  {
   "cell_type": "code",
   "execution_count": 16,
   "metadata": {},
   "outputs": [
    {
     "name": "stdout",
     "output_type": "stream",
     "text": [
      "AND: True\n",
      "OR: False \n",
      "NOT para el primer valor: False\n",
      "NOT para el segundo valor: False\n"
     ]
    }
   ],
   "source": [
    "valor1 = input(\"Ingresa el primer valor booleano (True o False): \")\n",
    "valor2 = input(\"Ingresa el segundo valor booleano (True o False): \")\n",
    "result_and = valor1 and valor2\n",
    "result_or = valor1 or valor2\n",
    "result_not1 = not valor1\n",
    "result_not2 = not valor2\n",
    "print(\"AND:\", result_and)\n",
    "print(\"OR:\", result_or)\n",
    "print(\"NOT para el primer valor:\", result_not1)\n",
    "print(\"NOT para el segundo valor:\", result_not2)"
   ]
  },
  {
   "cell_type": "markdown",
   "metadata": {},
   "source": [
    "1.10.Conversiones de tipos:Toma un número como entrada y conviértelo a entero, flotante y\n",
    "cadena. Luego, muestra los resultados en diferentes líneas."
   ]
  },
  {
   "cell_type": "code",
   "execution_count": 17,
   "metadata": {},
   "outputs": [
    {
     "name": "stdout",
     "output_type": "stream",
     "text": [
      "Entero: 1\n",
      "Flotante: 1.0\n",
      "Cadena: 1\n"
     ]
    }
   ],
   "source": [
    "numero = input(\"Ingresa un número: \")\n",
    "numero_entero = int(numero)\n",
    "numero_flotante = float(numero)\n",
    "numero_cadena = str(numero)\n",
    "print(\"Entero:\", numero_entero)\n",
    "print(\"Flotante:\", numero_flotante)\n",
    "print(\"Cadena:\", numero_cadena)"
   ]
  },
  {
   "cell_type": "markdown",
   "metadata": {},
   "source": [
    "1.11.Conteo de caracteres:Solicita al usuario que ingrese una cadena de texto y luego cuenta y\n",
    "muestra la cantidad de caracteres alfabéticos (letras) en la cadena."
   ]
  },
  {
   "cell_type": "code",
   "execution_count": 19,
   "metadata": {},
   "outputs": [
    {
     "name": "stdout",
     "output_type": "stream",
     "text": [
      "Cantidad de letras: 6\n"
     ]
    }
   ],
   "source": [
    "cadena = input(\"Ingresa una cadena de texto: \")\n",
    "letras =[]\n",
    "for i in cadena:\n",
    "    if i.isalpha():\n",
    "        letras +=i\n",
    "print(\"Cantidad de letras:\", len(letras))"
   ]
  },
  {
   "cell_type": "markdown",
   "metadata": {},
   "source": [
    "1.12.Suma de elementos de una lista:Crea una lista de números y calcula la suma de todos los\n",
    "elementos de la lista."
   ]
  },
  {
   "cell_type": "code",
   "execution_count": 20,
   "metadata": {},
   "outputs": [
    {
     "name": "stdout",
     "output_type": "stream",
     "text": [
      "150\n"
     ]
    }
   ],
   "source": [
    "lista_numeros = [10, 20, 30, 40, 50]\n",
    "suma = sum(lista_numeros)\n",
    "print(suma)"
   ]
  },
  {
   "cell_type": "markdown",
   "metadata": {},
   "source": [
    "1.13.Reemplazo de caracteres: Pide al usuario que ingrese una cadena de texto y reemplaza\n",
    "todas las ocurrencias de un carácter específico en la cadena por otro carácter."
   ]
  },
  {
   "cell_type": "code",
   "execution_count": 21,
   "metadata": {},
   "outputs": [
    {
     "name": "stdout",
     "output_type": "stream",
     "text": [
      "Cadena cambiada: hol@\n"
     ]
    }
   ],
   "source": [
    "cadena = input(\"Ingresa una cadena de texto: \")\n",
    "caract_elegido = input(\"Ingresa el carácter a reemplazar: \")\n",
    "carac_cambio= input(\"Ingresa el carácter de reemplazo: \")\n",
    "cadena_result = cadena.replace(caract_elegido, carac_cambio)\n",
    "print(\"Cadena cambiada:\", cadena_result)"
   ]
  },
  {
   "cell_type": "markdown",
   "metadata": {},
   "source": [
    "1.14.Días vividos:Pide al usuario su fecha de nacimiento (año, mes y día) y calcula\n",
    "cuántos días ha vivido hasta la fecha actual."
   ]
  },
  {
   "cell_type": "code",
   "execution_count": 23,
   "metadata": {},
   "outputs": [
    {
     "name": "stdout",
     "output_type": "stream",
     "text": [
      "6846\n"
     ]
    }
   ],
   "source": [
    "from datetime import datetime\n",
    "fecha_nacimiento = input(\"Ingresa tu fecha de nacimiento (dd/mm/aaaa): \")\n",
    "f_actual = datetime.now()\n",
    "fecha_nacimiento = datetime.strptime(fecha_nacimiento, \"%d/%m/%Y\")\n",
    "diferencia = f_actual - fecha_nacimiento\n",
    "print(diferencia.days )"
   ]
  },
  {
   "cell_type": "markdown",
   "metadata": {},
   "source": [
    "1.15.Ordenar una lista:Crea una lista desordenada de números y ordénala de menor\n",
    "a mayor sin usar la función sorted()."
   ]
  },
  {
   "cell_type": "code",
   "execution_count": 25,
   "metadata": {},
   "outputs": [
    {
     "name": "stdout",
     "output_type": "stream",
     "text": [
      "[11, 12, 22, 25, 34, 64, 90]\n"
     ]
    }
   ],
   "source": [
    "lista = [64, 34, 25, 12, 22, 11, 90]\n",
    "n = len(lista)\n",
    "for i in range(n):\n",
    "    for j in range(0, n-i-1):\n",
    "        if lista[j] > lista[j+1]:\n",
    "            lista[j], lista[j+1] = lista[j+1], lista[j]\n",
    "print(lista)"
   ]
  },
  {
   "cell_type": "markdown",
   "metadata": {},
   "source": [
    "1.16.Calificación promedio:Solicita al usuario que ingrese las calificaciones de un estudiante en tres asignaturas diferentes y calcula el promedio de las calificaciones."
   ]
  },
  {
   "cell_type": "code",
   "execution_count": 26,
   "metadata": {},
   "outputs": [
    {
     "name": "stdout",
     "output_type": "stream",
     "text": [
      "5.666666666666667\n"
     ]
    }
   ],
   "source": [
    "nota1 = float(input(\"Ingresa la nota en la primera asignatura: \"))\n",
    "nota2 = float(input(\"Ingresa la nota en la segunda asignatura: \"))\n",
    "nota3 = float(input(\"Ingresa la nota en la tercera asignatura: \"))\n",
    "promedio = (nota1 + nota2 + nota3) / 3\n",
    "print(promedio)"
   ]
  },
  {
   "cell_type": "markdown",
   "metadata": {},
   "source": [
    "1.17.Diferencia de fechas:Pide al usuario dos fechas (en formato \"dd/mm/aaaa\") y calcula la diferencia en días entre las dos fechas."
   ]
  },
  {
   "cell_type": "code",
   "execution_count": 27,
   "metadata": {},
   "outputs": [
    {
     "name": "stdout",
     "output_type": "stream",
     "text": [
      "1899\n"
     ]
    }
   ],
   "source": [
    "from datetime import datetime\n",
    "\n",
    "fecha1 = input(\"Ingresa la primera fecha (dd/mm/aaaa): \")\n",
    "fecha2 = input(\"Ingresa la segunda fecha (dd/mm/aaaa): \")\n",
    "\n",
    "fecha1 = datetime.strptime(fecha1, \"%d/%m/%Y\")\n",
    "fecha2 = datetime.strptime(fecha2, \"%d/%m/%Y\")\n",
    "\n",
    "diferencia = abs(fecha2 - fecha1)\n",
    "print(diferencia.days)"
   ]
  },
  {
   "cell_type": "markdown",
   "metadata": {},
   "source": [
    "1.18.Listas en Python\n",
    "Crea una lista inicial llamada mi_lista con los siguientes elementos: [5, 2, 7, 1, 8]. Realiza las siguientes operaciones utilizando los métodos de lista en Python:\n",
    "1. Agrega los números 10 y 3 al final de la lista mi_lista.\n",
    "\n",
    "2. Inserta el número 4 en la posición 2 de la lista mi_lista.\n",
    "\n",
    "3. Elimina el número 7 de la lista.\n",
    "\n",
    "4. Elimina un elemento de la lista en la posición 1 y almacena el valor eliminado en una variable llamada elemento_eliminado.\n",
    "\n",
    "5. Encuentra el índice del número 8 en la lista y almacénalo en una variable llamada indice.\n",
    "\n",
    "6. Cuenta cuántas veces aparece el número 4 en la lista y almacena el resultado en una variable llamada conteo.\n",
    "\n",
    "7. Ordena la lista mi_lista en orden ascendente.\n",
    "\n",
    "8. Invierte el orden de los elementos en la lista mi_lista.\n",
    "\n",
    "9. Borra todos los elementos de la lista mi_lista.\n",
    "\n",
    "Al finalizar las operaciones, muestra la lista resultante y los resultados de las operaciones mencionadas, como el elemento eliminado, el índice de 8 y la cantidad de veces que aparece 4 en la lista."
   ]
  },
  {
   "cell_type": "code",
   "execution_count": 31,
   "metadata": {},
   "outputs": [
    {
     "name": "stdout",
     "output_type": "stream",
     "text": [
      "Lista resultante: []\n",
      "Elemento eliminado: 2\n",
      "Índice de 8: 3\n",
      "Cantidad de veces que aparece el 4: 1\n"
     ]
    }
   ],
   "source": [
    "mi_lista = [5, 2, 7, 1, 8]\n",
    "\n",
    "# 1.\n",
    "mi_lista.append(10)\n",
    "mi_lista.append(3)\n",
    "\n",
    "# 2.\n",
    "mi_lista.insert(2, 4)\n",
    "\n",
    "# 3.\n",
    "mi_lista.remove(7)\n",
    "\n",
    "# 4.\n",
    "elemento_eliminado = mi_lista.pop(1)\n",
    "\n",
    "#5.\n",
    "indice = mi_lista.index(8)\n",
    "\n",
    "# 6.\n",
    "contar = mi_lista.count(4)\n",
    "\n",
    "# 7.\n",
    "mi_lista.sort()\n",
    "\n",
    "# 8.\n",
    "mi_lista.reverse()\n",
    "\n",
    "# 9.\n",
    "mi_lista.clear()\n",
    "\n",
    "print(\"Lista resultante:\", mi_lista)\n",
    "print(\"Elemento eliminado:\", elemento_eliminado)\n",
    "print(\"Índice de 8:\", indice)\n",
    "print(\"Cantidad de veces que aparece el 4:\", contar)"
   ]
  },
  {
   "cell_type": "markdown",
   "metadata": {},
   "source": [
    "1.19.Tuplas en Python – Selección Femenina de Fútbol\n",
    "Supongamos que estás trabajando con información sobre el rendimiento de la Selección Femenina de Fútbol de España durante la útlima temporada. Cada registro de rendimiento se almacena como una tupla que contiene la siguiente información:\n",
    "El nombre de la jugadora (cadena de texto)\n",
    "El número de camiseta de la jugadora (número entero positivo)\n",
    "La cantidad de goles anotados por la jugadora en la temporada (número entero positivo)\n",
    "Realiza las siguientes operaciones utilizando tuplas en Python:\n",
    "1. Crea al menos cinco tuplas de rendimiento de jugadoras distintas con datos ficticios.\n",
    "2. Almacena todas las tuplas en una lista llamada registro_rendimiento.\n",
    "3. Escribe una función llamada promedio_goles que calcule y devuelva el promedio de goles anotados por todas las jugadoras en el registro de rendimiento.\n",
    "4. Escribe una función llamada mejor_goleadora que identifique y devuelva el nombre de la jugadora con la mayor cantidad de goles anotados.\n",
    "5. Escribe una función llamada buscar_jugadora que tome como entrada el número de camiseta de una jugadora y devuelva el nombre de la jugadora y la cantidad de goles que anotó, si ese número de camiseta existe en el registro de rendimiento. De lo contrario, debe devolver un mensaje que indique que la jugadora no está en el registro.\n",
    "Luego, utiliza estas funciones para mostrar el promedio de goles, a la mejor goleadora y buscar información sobre jugadoras específicas en el registro de rendimiento.\n",
    "Nota: Puedes utilizar los datos ficticios que desees para las tuplas de rendimiento de las jugadoras."
   ]
  },
  {
   "cell_type": "code",
   "execution_count": 32,
   "metadata": {},
   "outputs": [
    {
     "name": "stdout",
     "output_type": "stream",
     "text": [
      "Promedio de goles: 17.4\n",
      "Mejor goleadora: Laura\n",
      "María anotó 20 goles.\n"
     ]
    }
   ],
   "source": [
    "jugadora1 = (\"Lucia\", 10, 15)\n",
    "jugadora2 = (\"María\", 7, 20)\n",
    "jugadora3 = (\"Ana\", 5, 12)\n",
    "jugadora4 = (\"Elena\", 9, 18)\n",
    "jugadora5 = (\"Laura\", 11, 22)\n",
    "registro_rend = [jugadora1, jugadora2, jugadora3, jugadora4, jugadora5]\n",
    "def promedio_goles(registro):\n",
    "    total_goles = sum(jugadora[2] for jugadora in registro)\n",
    "    promedio = total_goles / len(registro)\n",
    "    return promedio\n",
    "def mejor_goleadora(registro):\n",
    "    max_goles = 0\n",
    "    mejor_jugadora = \"\"\n",
    "    for jugadora in registro:\n",
    "        if jugadora[2] > max_goles:\n",
    "            max_goles = jugadora[2]\n",
    "            mejor_jugadora = jugadora[0]\n",
    "    return mejor_jugadora\n",
    "def buscar_jugadora(registro, numero_camiseta):\n",
    "    for jugadora in registro:\n",
    "        if jugadora[1] == numero_camiseta:\n",
    "            return f\"{jugadora[0]} anotó {jugadora[2]} goles.\"\n",
    "    return \"La jugadora no está en el registro.\"\n",
    "print(\"Promedio de goles:\", promedio_goles(registro_rend))\n",
    "print(\"Mejor goleadora:\", mejor_goleadora(registro_rend))\n",
    "numero_camiseta_buscar = 7\n",
    "print(buscar_jugadora(registro_rend, numero_camiseta_buscar))"
   ]
  },
  {
   "cell_type": "markdown",
   "metadata": {},
   "source": [
    "1.20.Conjuntos en Python – Estudiantes universitarios\n",
    "Supongamos que tienes dos conjuntos que representan a dos grupos de estudiantes interesados en diferentes asignaturas en una universidad. Cada conjunto contiene los números de identificación de los estudiantes (pas) que están inscritos en las asignaturas respectivas.\n",
    "Realiza las siguientes operaciones utilizando conjuntos en Python:\n",
    "1. Crea dos conjuntos llamados grupo_a y grupo_b con al menos cinco números de identificación de estudiantes en cada uno. Asegúrate de incluir algunos estudiantes en ambos grupos para simular la superposición de intereses en ciertas asignaturas.\n",
    "2. Escribe una función llamada estudiantes_comunes que tome como entrada los conjuntos grupo_a y grupo_b y devuelva un conjunto que contenga los números deidentificación de los estudiantes que están inscritos en ambas asignaturas.\n",
    "3. Escribe una función llamada estudiantes_unidos que tome como entrada los\n",
    "conjuntos grupo_a y grupo_b y devuelva un conjunto que contenga todos los números de identificación de los estudiantes de ambos grupos, sin duplicados.\n",
    "4. Escribe una función llamada estudiantes_exclusivos que tome como entrada los conjuntos grupo_a y grupo_b y devuelva un conjunto que contenga los números de identificación de los estudiantes que están inscritos en una asignatura, pero no en la otra.\n",
    "5. Utiliza las funciones que has creado para mostrar los siguientes resultados:\n",
    "Los números de identificación de los estudiantes que están inscritos en ambas asignaturas.\n",
    "Los números de identificación de todos los estudiantes en ambos grupos (sin duplicados).\n",
    "Los números de identificación de los estudiantes que están inscritos en una asignatura, pero no en la otra.\n",
    "Puedes utilizar números de identificación ficticios para los estudiantes en los conjuntos grupo_a y grupo_b. El objetivo es practicar el uso de conjuntos en Python para realizar operaciones de conjunto comunes."
   ]
  },
  {
   "cell_type": "code",
   "execution_count": 33,
   "metadata": {},
   "outputs": [
    {
     "name": "stdout",
     "output_type": "stream",
     "text": [
      "Estudiantes en común: {104, 105, 103}\n",
      "Todos los estudiantes sin duplicados: {101, 102, 103, 104, 105, 106, 107}\n",
      "Estudiantes exclusivos en cada grupo: {101, 102, 106, 107}\n"
     ]
    }
   ],
   "source": [
    "grupo_a = {101, 102, 103, 104, 105}\n",
    "grupo_b = {103, 104, 105, 106, 107}\n",
    "def est_comunes(grupo_a, grupo_b):\n",
    "    return grupo_a.intersection(grupo_b)\n",
    "def est_unidos(grupo_a, grupo_b):\n",
    "    return grupo_a.union(grupo_b)\n",
    "def est_exclusivos(grupo_a, grupo_b):\n",
    "    return grupo_a.symmetric_difference(grupo_b)\n",
    "est_comunes_result = est_comunes(grupo_a, grupo_b)\n",
    "est_unidos_result = est_unidos(grupo_a, grupo_b)\n",
    "est_exclusivos_result = est_exclusivos(grupo_a, grupo_b)\n",
    "print(\"Estudiantes en común:\", est_comunes_result)\n",
    "print(\"Todos los estudiantes sin duplicados:\", est_unidos_result)\n",
    "print(\"Estudiantes exclusivos en cada grupo:\", est_exclusivos_result)"
   ]
  },
  {
   "cell_type": "markdown",
   "metadata": {},
   "source": [
    "1.22.Ejercicio de POO - Gestión de una Biblioteca\n",
    "Crea un programa en Python que modele una biblioteca utilizando conceptos de programación orientada a objetos. Debes definir dos clases principales: Libro y Biblioteca. 1. La\n",
    "clase Libro debe tener las siguientes propiedades: Título del libro.\n",
    "Autor del libro.\n",
    "Año de publicación del libro.\n",
    "Además, la clase Libro debe tener un método llamado mostrar_informacion que imprima en la consola la información completa del libro en el siguiente formato:"
   ]
  },
  {
   "cell_type": "code",
   "execution_count": 34,
   "metadata": {},
   "outputs": [
    {
     "name": "stdout",
     "output_type": "stream",
     "text": [
      "El libro 'El Gran Gatsby' ha sido agregado a la biblioteca 'Biblioteca Central'.\n",
      "El libro 'Cien años de soledad' ha sido agregado a la biblioteca 'Biblioteca Central'.\n",
      "El libro '1984' ha sido agregado a la biblioteca 'Biblioteca Central'.\n",
      "Catálogo de la biblioteca 'Biblioteca Central':\n",
      "Título: El Gran Gatsby\n",
      "Autor: F. Scott Fitzgerald\n",
      "Año de Publicación: 1925\n",
      "\n",
      "Título: Cien años de soledad\n",
      "Autor: Gabriel García Márquez\n",
      "Año de Publicación: 1967\n",
      "\n",
      "Título: 1984\n",
      "Autor: George Orwell\n",
      "Año de Publicación: 1949\n",
      "\n",
      "El libro '1984' ha sido prestado de la biblioteca 'Biblioteca Central'.\n",
      "Catálogo de la biblioteca 'Biblioteca Central':\n",
      "Título: El Gran Gatsby\n",
      "Autor: F. Scott Fitzgerald\n",
      "Año de Publicación: 1925\n",
      "\n",
      "Título: Cien años de soledad\n",
      "Autor: Gabriel García Márquez\n",
      "Año de Publicación: 1967\n",
      "\n",
      "El libro '1984' ha sido devuelto a la biblioteca 'Biblioteca Central'.\n",
      "Catálogo de la biblioteca 'Biblioteca Central':\n",
      "Título: El Gran Gatsby\n",
      "Autor: F. Scott Fitzgerald\n",
      "Año de Publicación: 1925\n",
      "\n",
      "Título: Cien años de soledad\n",
      "Autor: Gabriel García Márquez\n",
      "Año de Publicación: 1967\n",
      "\n",
      "Título: 1984\n",
      "Autor: George Orwell\n",
      "Año de Publicación: 1949\n",
      "\n"
     ]
    }
   ],
   "source": [
    "class Libro:\n",
    "    def __init__(self, titulo, autor, año_publicacion):\n",
    "        self.titulo = titulo\n",
    "        self.autor = autor\n",
    "        self.año_publicacion = año_publicacion\n",
    "    def mostrar_informacion(self):\n",
    "        print(f\"Título: {self.titulo}\")\n",
    "        print(f\"Autor: {self.autor}\")\n",
    "        print(f\"Año de Publicación: {self.año_publicacion}\")\n",
    "        print()\n",
    "class Biblioteca:\n",
    "    def __init__(self, nombre):\n",
    "        self.nombre = nombre\n",
    "        self.libros_disponibles = []\n",
    "    def agregar_libro(self, libro):\n",
    "        self.libros_disponibles.append(libro)\n",
    "        print(f\"El libro '{libro.titulo}' ha sido agregado a la biblioteca '{self.nombre}'.\")\n",
    "    def prestar_libro(self, titulo):\n",
    "        for libro in self.libros_disponibles:\n",
    "            if libro.titulo == titulo:\n",
    "                self.libros_disponibles.remove(libro)\n",
    "                print(f\"El libro '{libro.titulo}' ha sido prestado de la biblioteca '{self.nombre}'.\")\n",
    "                return libro\n",
    "        print(f\"No se encontró el libro '{titulo}' en la biblioteca.\")\n",
    "        return None\n",
    "    def devolver_libro(self, libro):\n",
    "        self.libros_disponibles.append(libro)\n",
    "        print(f\"El libro '{libro.titulo}' ha sido devuelto a la biblioteca '{self.nombre}'.\")\n",
    "    def mostrar_catalogo(self):\n",
    "        if not self.libros_disponibles:\n",
    "            print(f\"No hay libros disponibles en la biblioteca '{self.nombre}'.\")\n",
    "        else:\n",
    "            print(f\"Catálogo de la biblioteca '{self.nombre}':\")\n",
    "            for libro in self.libros_disponibles:\n",
    "                libro.mostrar_informacion()\n",
    "mi_biblioteca = Biblioteca(\"Biblioteca Central\")\n",
    "libro1 = Libro(\"El Gran Gatsby\", \"F. Scott Fitzgerald\", 1925)\n",
    "libro2 = Libro(\"Cien años de soledad\", \"Gabriel García Márquez\", 1967)\n",
    "libro3 = Libro(\"1984\", \"George Orwell\", 1949)\n",
    "mi_biblioteca.agregar_libro(libro1)\n",
    "mi_biblioteca.agregar_libro(libro2)\n",
    "mi_biblioteca.agregar_libro(libro3)\n",
    "mi_biblioteca.mostrar_catalogo()\n",
    "libro_prestado = mi_biblioteca.prestar_libro(\"1984\")\n",
    "mi_biblioteca.mostrar_catalogo()\n",
    "mi_biblioteca.devolver_libro(libro_prestado)\n",
    "mi_biblioteca.mostrar_catalogo()"
   ]
  },
  {
   "cell_type": "markdown",
   "metadata": {},
   "source": [
    "Enlace de github: "
   ]
  }
 ],
 "metadata": {
  "kernelspec": {
   "display_name": "Python 3",
   "language": "python",
   "name": "python3"
  },
  "language_info": {
   "codemirror_mode": {
    "name": "ipython",
    "version": 3
   },
   "file_extension": ".py",
   "mimetype": "text/x-python",
   "name": "python",
   "nbconvert_exporter": "python",
   "pygments_lexer": "ipython3",
   "version": "3.9.6"
  },
  "orig_nbformat": 4
 },
 "nbformat": 4,
 "nbformat_minor": 2
}
